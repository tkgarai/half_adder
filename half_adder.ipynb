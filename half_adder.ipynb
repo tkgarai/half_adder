{
 "cells": [
  {
   "cell_type": "code",
   "execution_count": 3,
   "id": "2286c2a9",
   "metadata": {},
   "outputs": [
    {
     "name": "stdout",
     "output_type": "stream",
     "text": [
      "{'0110': 1}\n"
     ]
    },
    {
     "data": {
      "text/html": [
       "<pre style=\"word-wrap: normal;white-space: pre;background: #fff0;line-height: 1.1;font-family: &quot;Courier New&quot;,Courier,monospace\">            ┌──────┐┌──────────┐   ┌─┐      \n",
       "q18_0: ─────┤0     ├┤0         ├───┤M├──────\n",
       "       ┌───┐│      ││          │   └╥┘┌─┐   \n",
       "q18_1: ┤ X ├┤1 xor ├┤1         ├────╫─┤M├───\n",
       "       └───┘│      ││  xor_and │┌─┐ ║ └╥┘   \n",
       "q18_2: ─────┤2     ├┤          ├┤M├─╫──╫────\n",
       "            └──────┘│          │└╥┘ ║  ║ ┌─┐\n",
       "q18_3: ─────────────┤2         ├─╫──╫──╫─┤M├\n",
       "                    └──────────┘ ║  ║  ║ └╥┘\n",
       " c4: 4/══════════════════════════╩══╩══╩══╩═\n",
       "                                 1  3  2  0 </pre>"
      ],
      "text/plain": [
       "            ┌──────┐┌──────────┐   ┌─┐      \n",
       "q18_0: ─────┤0     ├┤0         ├───┤M├──────\n",
       "       ┌───┐│      ││          │   └╥┘┌─┐   \n",
       "q18_1: ┤ X ├┤1 xor ├┤1         ├────╫─┤M├───\n",
       "       └───┘│      ││  xor_and │┌─┐ ║ └╥┘   \n",
       "q18_2: ─────┤2     ├┤          ├┤M├─╫──╫────\n",
       "            └──────┘│          │└╥┘ ║  ║ ┌─┐\n",
       "q18_3: ─────────────┤2         ├─╫──╫──╫─┤M├\n",
       "                    └──────────┘ ║  ║  ║ └╥┘\n",
       " c4: 4/══════════════════════════╩══╩══╩══╩═\n",
       "                                 1  3  2  0 "
      ]
     },
     "execution_count": 3,
     "metadata": {},
     "output_type": "execute_result"
    }
   ],
   "source": [
    "from qiskit import QuantumRegister, ClassicalRegister\n",
    "from qiskit import Aer, execute, QuantumCircuit\n",
    "\n",
    "# construct Oracle of XOR function\n",
    "circuit = QuantumCircuit(3, name='xor')\n",
    "circuit.cx(0,2)\n",
    "circuit.cx(1,2)\n",
    "xor = circuit.to_instruction()\n",
    "\n",
    "# construct Oracle of AND function\n",
    "oracl = QuantumCircuit(3, name='xor_and')\n",
    "oracl.ccx(0,1,2)\n",
    "and_func = oracl.to_instruction()\n",
    "\n",
    "q = QuantumRegister(4)\n",
    "c = ClassicalRegister(4)\n",
    "d = ClassicalRegister(4)\n",
    "qc = QuantumCircuit(q,c)\n",
    "\n",
    "qc.x(q[1])\n",
    "qc.append(xor,[q[0],q[1],q[2]])  # Sum +x +y\n",
    "qc.append(and_func,[0,1,3])       # Carry + x.y\n",
    "\n",
    "for i in range(4) :\n",
    "    qc.measure(q[i],c[3-i])\n",
    "\n",
    "#Executing the circuit in the simulator\n",
    "backend = Aer.get_backend('qasm_simulator')\n",
    "qjob = execute(qc, backend, shots =1)\n",
    "count = qjob.result().get_counts()\n",
    "print(count)\n",
    "\n",
    "qc.draw()"
   ]
  }
 ],
 "metadata": {
  "kernelspec": {
   "display_name": "Python 3 (ipykernel)",
   "language": "python",
   "name": "python3"
  },
  "language_info": {
   "codemirror_mode": {
    "name": "ipython",
    "version": 3
   },
   "file_extension": ".py",
   "mimetype": "text/x-python",
   "name": "python",
   "nbconvert_exporter": "python",
   "pygments_lexer": "ipython3",
   "version": "3.10.6"
  }
 },
 "nbformat": 4,
 "nbformat_minor": 5
}
